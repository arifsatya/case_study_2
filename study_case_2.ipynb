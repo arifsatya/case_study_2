{
 "cells": [
  {
   "cell_type": "code",
   "execution_count": 2,
   "metadata": {},
   "outputs": [
    {
     "ename": "SyntaxError",
     "evalue": "invalid syntax (1245559709.py, line 1)",
     "output_type": "error",
     "traceback": [
      "\u001b[1;36m  Cell \u001b[1;32mIn[2], line 1\u001b[1;36m\u001b[0m\n\u001b[1;33m    function:\u001b[0m\n\u001b[1;37m              ^\u001b[0m\n\u001b[1;31mSyntaxError\u001b[0m\u001b[1;31m:\u001b[0m invalid syntax\n"
     ]
    }
   ],
   "source": [
    "\n",
    "\n",
    "function: \n",
    "\n",
    "class membership\n",
    "data:\n",
    "    Sumbul: Platinum\n",
    "    Ana: Gold\n",
    "    Cahya: Platinum\n",
    "atribut: username, expenses, income, plan\n",
    "method: show_benefit(), show_requirements(), predict_membership(monthly_expense, monthly_income),\n",
    "    calculate_price(membership, *list_harga_barang)\n"
   ]
  },
  {
   "cell_type": "code",
   "execution_count": 7,
   "metadata": {},
   "outputs": [],
   "source": [
    "from tabulate import tabulate\n",
    "from math import sqrt\n",
    "\n",
    "class Membership:\n",
    "    data= {\n",
    "        'Sumbul': 'Platinum',\n",
    "        'Ana': 'Gold',\n",
    "        'Cahya': 'Platinum'\n",
    "    }\n",
    "\n",
    "    benefit_header = ['Membership', 'Discount', 'Another Benefit']\n",
    "    benefit_table = [\n",
    "        ['Platinum', '15%', 'Benefit Silver + Gold + Voucher Liburan + Cashback max. 30%'],\n",
    "        ['Gold', '10%', 'Benefit Silver + Voucher Ojek Online'],\n",
    "        ['Silver', '8%', 'Voucher Makanan']\n",
    "    ]\n",
    "    \n",
    "    requirements_header = ['Membership', 'Monthly Expense (Juta)', 'Monthly Income (Juta)']\n",
    "    requirements_table = [\n",
    "        ['Platinum', 8, 15],\n",
    "        ['Gold', 6, 10],\n",
    "        ['Silver', 5, 7]\n",
    "    ]\n",
    "\n",
    "    def __init__(self):\n",
    "        self.user = None\n",
    "        self.expense = None\n",
    "        self.income = None\n",
    "\n",
    "    def show_benefit(self):\n",
    "        print(tabulate(self.benefit_table, self.benefit_header))\n",
    "\n",
    "    def show_requirements(self):\n",
    "        print(tabulate(self.requirements_table, self.requirements_header))\n",
    "\n",
    "    def predict_membership(self, user, expense, income):\n",
    "        self.user = user\n",
    "        self.expense = expense\n",
    "        self.income = income\n",
    "\n",
    "        platinum_expense = self.requirements_table[0][1]\n",
    "        platinum_income = self.requirements_table[0][2]\n",
    "\n",
    "        gold_expense = self.requirements_table[1][1]\n",
    "        gold_income = self.requirements_table[1][2]\n",
    "        \n",
    "        silver_expense = self.requirements_table[2][1]\n",
    "        silver_income = self.requirements_table[2][2]\n",
    "\n",
    "        euclidean_dict = {}\n",
    "        euclidean_dict['Platinum'] = round(sqrt((self.expense-platinum_expense)**2 + (self.income-platinum_income)**2), 2)\n",
    "        euclidean_dict['Gold'] = round(sqrt((self.expense-gold_expense)**2 + (self.income-gold_income)**2), 2)\n",
    "        euclidean_dict['Silver'] = round(sqrt((self.expense-silver_expense)**2 + (self.income-silver_income)**2), 2)\n",
    "\n",
    "        print(f'Hasil perhitungan Euclidean Distance dari user {self.user} adalah {euclidean_dict}')\n",
    "\n",
    "        euclidean_values = list(euclidean_dict.values())\n",
    "        min_value = min(euclidean_values)\n",
    "        euclidean_keys = list(euclidean_dict.keys())\n",
    "        index_plan = euclidean_values.index(min_value)\n",
    "        user_plan = euclidean_keys[index_plan]\n",
    "\n",
    "        self.data[self.user] = user_plan\n",
    "\n",
    "    def membership_type(self, username):\n",
    "        if username in self.data.keys():\n",
    "            print(f'{username} memiliki membership {self.data[username]}')\n",
    "        else:\n",
    "            print(f'{username} belum mendaftar membership di PacCommerce')\n"
   ]
  },
  {
   "cell_type": "code",
   "execution_count": 8,
   "metadata": {},
   "outputs": [
    {
     "name": "stdout",
     "output_type": "stream",
     "text": [
      "{'Sumbul': 'Platinum', 'Ana': 'Gold', 'Cahya': 'Platinum'}\n",
      "Membership    Discount    Another Benefit\n",
      "------------  ----------  -----------------------------------------------------------\n",
      "Platinum      15%         Benefit Silver + Gold + Voucher Liburan + Cashback max. 30%\n",
      "Gold          10%         Benefit Silver + Voucher Ojek Online\n",
      "Silver        8%          Voucher Makanan\n",
      "Membership      Monthly Expense (Juta)    Monthly Income (Juta)\n",
      "------------  ------------------------  -----------------------\n",
      "Platinum                             8                       15\n",
      "Gold                                 6                       10\n",
      "Silver                               5                        7\n"
     ]
    }
   ],
   "source": [
    "membership_list_1= Membership()\n",
    "print(membership_list_1.data)\n",
    "\n",
    "membership_list_1.show_benefit()\n",
    "\n",
    "membership_list_1.show_requirements()"
   ]
  },
  {
   "cell_type": "code",
   "execution_count": 9,
   "metadata": {},
   "outputs": [
    {
     "name": "stdout",
     "output_type": "stream",
     "text": [
      "Hasil perhitungan Euclidean Distance dari user Mpiw adalah {'Platinum': 8.06, 'Gold': 2.83, 'Silver': 1.41}\n"
     ]
    }
   ],
   "source": [
    "membership_list_1.predict_membership('Mpiw', 4, 8)"
   ]
  },
  {
   "cell_type": "code",
   "execution_count": 10,
   "metadata": {},
   "outputs": [
    {
     "name": "stdout",
     "output_type": "stream",
     "text": [
      "['a', 'b']\n"
     ]
    }
   ],
   "source": [
    "diksionari = {1: 'a', 2: 'b'}\n",
    "lis = list(diksionari.values())\n",
    "print(lis)"
   ]
  },
  {
   "cell_type": "code",
   "execution_count": 11,
   "metadata": {},
   "outputs": [
    {
     "name": "stdout",
     "output_type": "stream",
     "text": [
      "{'Sumbul': 'Platinum', 'Ana': 'Gold', 'Cahya': 'Platinum', 'Mpiw': 'Silver'}\n"
     ]
    }
   ],
   "source": [
    "print(membership_list_1.data)"
   ]
  },
  {
   "cell_type": "code",
   "execution_count": 15,
   "metadata": {},
   "outputs": [
    {
     "name": "stdout",
     "output_type": "stream",
     "text": [
      "Sumbul memiliki membership Platinum\n"
     ]
    }
   ],
   "source": [
    "membership_list_1.membership_type('Sumbul')"
   ]
  },
  {
   "cell_type": "code",
   "execution_count": null,
   "metadata": {},
   "outputs": [],
   "source": []
  }
 ],
 "metadata": {
  "kernelspec": {
   "display_name": "base",
   "language": "python",
   "name": "python3"
  },
  "language_info": {
   "codemirror_mode": {
    "name": "ipython",
    "version": 3
   },
   "file_extension": ".py",
   "mimetype": "text/x-python",
   "name": "python",
   "nbconvert_exporter": "python",
   "pygments_lexer": "ipython3",
   "version": "3.11.5"
  }
 },
 "nbformat": 4,
 "nbformat_minor": 2
}
